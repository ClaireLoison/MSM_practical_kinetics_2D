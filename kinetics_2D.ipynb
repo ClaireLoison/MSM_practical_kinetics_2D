{
 "cells": [
  {
   "cell_type": "markdown",
   "metadata": {},
   "source": [
    "# Simulation of a simple exchange kinetics between 2 states  $\\mathcal{S}_A \\rightleftharpoons \\mathcal{S}_B$\n",
    "\n",
    "## Introduction\n",
    "\n",
    "### Objective of the exercices\n",
    "1. Play a a bit with the kinetic notions of a simple, known system,  before going to more complex ones.\n",
    "1. Get accustomed the matricial notations used in Markov State Models theory.\n",
    "2. Recognize the exponential form of the time evolution of the system.\n",
    "3. Understand the notion of a propagator.\n",
    "4. Investigate the information contained in its eigenvalues and eigenvectors.\n",
    "\n"
   ]
  },
  {
   "cell_type": "markdown",
   "metadata": {},
   "source": [
    "### Context\n",
    "\n",
    "We consider a solution of molecules in exchange between 2 states $S_A$ and $S_B$, \n",
    "with concentration $[C_A](t)$ and $[C_B](t)$ as a function of time.\n",
    "\n",
    "The total concentration is noted $[C](t) = [C_A](t) + [C_B](t) $.\n",
    "\n",
    "The kinetic constant of the reaction from $\\mathcal{S}_A$ to $\\mathcal{S}_B$ is noted $k_{AB}$. \n",
    "The one from $B$ to $A$ is noted  $k_{BA}$. \n",
    "\n",
    "We shall simulate  an experiment with a starting compositions $[C_A]_i$ and  $[C_B]_i$, and predict the time evolution. The volume of the solution is considered as constant, and all molecules remain in it.\n",
    "\n",
    "Two different stategies  to obtain  the concentrations as a function of time  will be compared:\n",
    "1. calculate analytically the formula using the `sympy` package,  \n",
    "1. calculate numerically (with an itterative procedure).\n",
    " "
   ]
  },
  {
   "cell_type": "markdown",
   "metadata": {},
   "source": [
    "### Notations\n",
    "- $t$ the time.\n",
    "- $\\tau$ a small time interval (also named timelag or timestep).\n",
    "- $S_A$, $S_B$ : states $A$ and $B$, with concentrations $[C_A](t)$ and $[C_B](t)$.\n",
    "- The kinetic constant of the reaction from $\\mathcal{S}_A$ to $\\mathcal{S}_B$ is noted $k_{AB}$, and inversely from $B$ to $A$.\n",
    "- $K^{eq}$ is the equilibrium constant of the equilibrium i.e. $K^{eq} = [C_B]/[C_A] $ at equilibrium.\n",
    "- $C(t)$ : total concentration of $S_A$ and $S_B$ at time $t$.\n",
    "- $p_A(t)$ and $p_B(t)$ : probabilities to be in state $A$ and $B$, respectively, at the time $t$.\n",
    "- $p_A^{eq}$ and $p_B^{eq}$, the corresponding probabilities at equilibrium."
   ]
  },
  {
   "cell_type": "markdown",
   "metadata": {},
   "source": [
    "### Reminder about simple kinetics\n",
    "\n",
    "**QUESTIONS**\n",
    "\n",
    "1. Make a scheme of the exchange with the kinetic constants. \n",
    "2. What can you say about the time evolution of $C$ ?\n",
    "3. Write how $[C_A](t)$ depends on $C$ and $p_A(t)$. Same question for how $[C_B](t)$ depends on $C$ and $p_B(t)$.\n",
    "4. From  one of the previous equations, deduce how the equilibrium constant $K$ depends on $k_{AB}$ and $k_{BA}$. How do you write $K^{eq}$ as a function of $p_A^{eq}$ and $p_B^{eq}$  ?\n",
    "5. Find the expressions of $p_A^{eq}$ and $p_B^{eq}$ as a function of $k_{AB}$ and $k_{BA}$.\n",
    "6. Write the two time-differential equations for $p_A(t)$ and $p_B(t)$ noted Eq.(A) and Eq.(B) respectively.\n"
   ]
  },
  {
   "cell_type": "markdown",
   "metadata": {},
   "source": [
    "### Introduction to matricial notation\n",
    "\n",
    "**QUESTIONS**\n",
    "1. Write down Eq.(A) - Eq.(B) and  rewrite introduce the new variable $v(t) = p_A(t)-p_B(t)$. What is the time derivative of $v(t)$ ?\n",
    "Find a linear combination of $k_{AB}$ and $k_{BA}$ that caracterizes a typical frequency for the time evolution of the system.  \n",
    "\n",
    "2.  We define a vector \n",
    "$ p =\n",
    "\\begin{pmatrix} \n",
    "p_A\\\\\n",
    "p_B\n",
    "\\end{pmatrix}\n",
    "$. \n",
    "Write the differential equation for $p$ with the form \n",
    "$\n",
    "\\frac{dp}{dt} = \\hat{k} p\n",
    "$\n",
    "where $\\hat{k}$ is a $2 \\times 2$ matrix that is independant of $t$. This equation is noted Eq.(K).\n",
    "\n",
    "\n",
    "8. Solve Eq.(K) to obtain the value of $p(t)$ as a function of  $p(t=0)$ , $\\hat{k}$ and $t$. Remember that you can define an exponential of a matrix using the Taylor expansion.\n",
    "\n",
    "\n",
    "We shall note in the following the transformation matrix\n",
    "$\\hat{T}=\\exp(t\\hat{k})$."
   ]
  },
  {
   "cell_type": "markdown",
   "metadata": {},
   "source": [
    "## Analytical Resolution using `sympy`\n",
    "\n",
    "In the following, you shall first solve numerically Eq(K) using `sympy`.\n",
    "The next cells are doing these steps :\n",
    "1. Load the necessary packages\n",
    "1. Define the different symbolic variables\n",
    "2. Define the initial probabilities.\n",
    "3. Define the propagator and finds its eigenvalues and eigenvectors.\n",
    "4. Solve the equation for the time evolution.\n",
    "4. Make a numerical resolution and plot the time evolution of the concentration \n",
    "\n",
    "\n",
    "<font color='red'>\n",
    "\n",
    "**ATTENTION**  \n",
    "</font>\n",
    "Some cells will produce errors at the compilation !\n",
    "you need to modify them.\n",
    "A hint is given ususally with the keywork **TOCOMPLETE** where you have to modify or complete.\n",
    "Sometimes, you will have to write down several lines of code, sometimes just enter a number...\n",
    "\n",
    "\n",
    "<font color='red'>\n",
    "\n",
    "**ATTENTION**  \n",
    "</font>\n",
    "There are questions to help you understand the code. You can add cells to answer the questions as markdown or python as in the following cell, using a special color.\n"
   ]
  },
  {
   "cell_type": "markdown",
   "metadata": {},
   "source": [
    "<font color='gray'>\n",
    "\n",
    "**Your answer in a Markdown cell**\n",
    "\n",
    "</font>"
   ]
  },
  {
   "cell_type": "code",
   "execution_count": 1,
   "metadata": {},
   "outputs": [],
   "source": [
    "# import all dependencies\n",
    "import sys\n",
    "from sympy import *\n",
    "import mpmath\n",
    "import math\n",
    "import numpy as np\n",
    "import matplotlib.pyplot as plt\n",
    "import matplotlib.colors as mcolors\n",
    "from matplotlib import cm\n",
    "import string\n",
    "\n",
    "sys.modules['sympy.mpmath'] = mpmath"
   ]
  },
  {
   "cell_type": "markdown",
   "metadata": {},
   "source": [
    "\n",
    "\n",
    "**QUESTIONS**\n",
    "\n",
    "1. Read and complete the following cell to let it run without error, and to define the expression of $K_{eq}$, as a function of the variables . \n",
    "\n",
    "\n"
   ]
  },
  {
   "cell_type": "code",
   "execution_count": 2,
   "metadata": {},
   "outputs": [],
   "source": [
    "# define the different symbolic calculation variables\n",
    "\n",
    "pAi = symbols('pai') # initial concentration in A\n",
    "pBi = symbols('pbi') # initial concentration in B\n",
    "\n",
    "kAB = symbols('k_AB') # kinetic constant from A to B\n",
    "kBA = symbols('k_BA') # kinetic constant from B to A\n",
    "\n",
    "Keq = kAB/kBA # equilibrium constant pB/pA\n",
    "#Keq = TOCOMPLETE # equilibrium constant pB/pA\n",
    "\n",
    "t = symbols('t') # time \n",
    "tau = symbols('tau') # small time step \n",
    "\n",
    "#  initial probability as a vector \n",
    "#  a list of elements is considered to be a column vector.\n",
    "pi = Matrix([pAi,pBi])\n",
    "#print(pi)\n",
    "\n",
    "# the first index of the matrix is the length of the column = the number of rows\n",
    "# the second index is the number of column\n",
    "# print(shape(pi))"
   ]
  },
  {
   "cell_type": "markdown",
   "metadata": {},
   "source": [
    "Now define the Matrix  $\\hat{k}$ that describes the time derivative of the probability vector $p$.\n",
    "In `sympy`, the matrix is given  rows by rows. Each row correspond to the list of coefficients for each time derivative  of individual components. The first row correspond to the description of the time derivate of $p_A$,  the second row to the time derivative of $p_B$.\n",
    "\n",
    "**QUESTIONS**\n",
    "1. Complete the following cell to define the correct matrix $\\hat{k}$ as a function of the variables defined above. \n"
   ]
  },
  {
   "cell_type": "code",
   "execution_count": 3,
   "metadata": {},
   "outputs": [
    {
     "name": "stdout",
     "output_type": "stream",
     "text": [
      "Matrix k is = Matrix([[-k_AB, k_BA], [k_AB, -k_BA]])\n",
      "number of rows    = 2\n",
      "number of columns = 2\n",
      "for compound A : coef. of the kinetics differential equations = [-k_AB, k_BA]\n",
      "for compound B : coef. of the kinetics differential equations = [k_AB, -k_BA]\n"
     ]
    }
   ],
   "source": [
    "\n",
    "# Matrix that describes the time derivative of the probabilities\n",
    "# the matrix is given  rows by rows\n",
    "# each row corresponds the list of coefficients for each time derivative  of individual components\n",
    "k = Matrix([[-kAB, kBA], [kAB, -kBA]])\n",
    "# k = Matrix([[-kAB, kBA], TOCOMPLETE ])\n",
    "\n",
    "print(f'Matrix k is = {k}')\n",
    "#print(f'shape of the k matrix = {shape(k)}')\n",
    "print(f'number of rows    = {shape(k)[0]}')\n",
    "print(f'number of columns = {shape(k)[1]}')\n",
    "\n",
    "\n",
    "# just a list to write down the equations\n",
    "alphabet = list(string.ascii_uppercase)\n",
    "for row in np.arange(shape(k)[0]) :\n",
    "    print(f'for compound {alphabet[row]} : coef. of the kinetics differential equations = {list(k.row(row))}')\n",
    "\n"
   ]
  },
  {
   "cell_type": "markdown",
   "metadata": {},
   "source": [
    "Let us think about the eigenvalues and eigenvectors of $\\hat{k}$. \n",
    "\n",
    "**QUESTIONS**\n",
    "\n",
    "1. At equilibrium, what should be the value of $\\frac{dp}{dt}$ ?\n",
    "2. What is the associated eigenvalue for $\\hat{k}$ ? \n",
    "3. What does the associated eigenvector  bring as information ? \n",
    "4. in the following cell, you will add some code to let `sympy` do the calculation for you.\n"
   ]
  },
  {
   "cell_type": "code",
   "execution_count": 4,
   "metadata": {},
   "outputs": [
    {
     "name": "stdout",
     "output_type": "stream",
     "text": [
      "=> All Eigenvectors of k \n",
      "\n",
      "eigenvalue = 0, multiplicity = 1, vector = [Matrix([\n",
      "[k_BA/k_AB],\n",
      "[        1]])]\n",
      "\n",
      "eigenvalue = -k_AB - k_BA, multiplicity = 1, vector = [Matrix([\n",
      "[-1],\n",
      "[ 1]])]\n",
      "\n",
      "\n",
      "=>Find the eigenvalue 0...\n",
      "Eigenvalue == 0  found!\n",
      "eigenvector = Matrix([[k_BA/k_AB], [1]])\n",
      "\n",
      "Equilibrium distribution after normalisation :\n",
      "pA_eq = k_BA/(k_AB + k_BA)\n",
      "pB_eq = k_AB/(k_AB + k_BA)\n"
     ]
    }
   ],
   "source": [
    "# investigate the eigenvalues of the generator k , especially the one with eigenvalue 0\n",
    "\n",
    "\n",
    "# describe the eigenvector of this matrix\n",
    "print(f'=> All Eigenvectors of k ')\n",
    "eigen = k.eigenvects()\n",
    "for e in eigen :\n",
    "    eigenvalue, multiplicity, vector = e\n",
    "    print(f'\\neigenvalue = {eigenvalue.simplify()}, multiplicity = {multiplicity}, vector = {vector}')\n",
    "\n",
    "\n",
    "print(f\"\\n\\n=>Find the eigenvalue 0...\")\n",
    "for e in eigen :\n",
    "    eigenvalue, multiplicity, vector = e   \n",
    "    if eigenvalue == 0.0 :\n",
    "#    if eigenvalue == TOCOMPLETE :\n",
    "\n",
    "        print(f\"Eigenvalue == 0  found!\")\n",
    "        vector0 = vector[0]\n",
    "        print(f'eigenvector = {vector0}')\n",
    "\n",
    "        #normalisation of the vector\n",
    "        sum = 0.0\n",
    "        for value in vector0:\n",
    "            sum=sum+value\n",
    "#           sum=TOCOMPLETE\n",
    "        vector_normalized = vector0/sum\n",
    "\n",
    "        # extract the expressions\n",
    "        expr_pA_eq = vector_normalized[0].simplify()\n",
    "        expr_pB_eq = vector_normalized[1].simplify()\n",
    "        print(f\"\\nEquilibrium distribution after normalisation :\")\n",
    "        print(f'pA_eq = {expr_pA_eq}')\n",
    "        print(f'pB_eq = {expr_pB_eq}')\n",
    "\n",
    "#print(f'=> Action of matrix k onto vector p')\n",
    "#print(k*pi)\n",
    "\n"
   ]
  },
  {
   "cell_type": "markdown",
   "metadata": {},
   "source": [
    "**QUESTION**\n",
    "1. Verify that the equilibrium eigenvector is consistent with your answer at the section *Reminder about simple kinetics* "
   ]
  },
  {
   "cell_type": "markdown",
   "metadata": {},
   "source": [
    "Now you will let `sympy` also calculate the full solution for any time $t$.\n",
    "\n",
    "**QUESTIONS**\n",
    "1. Complete the following cell to insert the correct mathematical expression for $p(t)$ noted here `pt`.\n",
    "2. Complete the following cell to let the two analytical expressions be printed."
   ]
  },
  {
   "cell_type": "code",
   "execution_count": 5,
   "metadata": {},
   "outputs": [
    {
     "name": "stdout",
     "output_type": "stream",
     "text": [
      "pA(t) = (-k_BA*pbi*(1 - exp(t*(k_AB + k_BA))) + pai*(k_AB + k_BA*exp(t*(k_AB +\n",
      " k_BA))))*exp(-t*(k_AB + k_BA))/(k_AB + k_BA)\n",
      "pB(t) = (-k_AB*pai*(1 - exp(t*(k_AB + k_BA))) + pbi*(k_AB*exp(t*(k_AB + k_BA))\n",
      " + k_BA))*exp(-t*(k_AB + k_BA))/(k_AB + k_BA)\n"
     ]
    }
   ],
   "source": [
    "# define a matrix description of the time evolution\n",
    "# the evolution matrix is BEFORE the probability vector\n",
    "pt = simplify(exp(t*k)*pi)\n",
    "#pt = simplify(exp(t*TOCOMPLETE)*pi)\n",
    "\n",
    "pprint(f'pA(t) = {pt[0]}')\n",
    "\n",
    "#pprint(f'pB(t) = {pt[1]}')\n",
    "pprint(f'pB(t) = {pt[1]}')"
   ]
  },
  {
   "cell_type": "markdown",
   "metadata": {},
   "source": [
    "In the following cell, you will let `sympy` and `numpy` make the numerical application\n",
    "\n",
    "**QUESTIONS**\n",
    "1. Complete the lines with *TOCOMPLETE*  keywords\n",
    "2. Verify that the initial  and final concentrations are reasonable.\n",
    "2. Play with the numerical values for the different variables."
   ]
  },
  {
   "cell_type": "code",
   "execution_count": 6,
   "metadata": {},
   "outputs": [
    {
     "name": "stdout",
     "output_type": "stream",
     "text": [
      "Dictionnary of the parameter values = {k_AB: 4.0, k_BA: 1.0, pai: 1.0, pbi: 0.0, tau: 0.02}\n",
      "pA(t) = 0.2 + 0.8*exp(-5.0*t)\n",
      "pB(t) = 0.8 - 0.8*exp(-5.0*t)\n"
     ]
    },
    {
     "data": {
      "image/png": "[encoded data removed]",
      "text/plain": [
       "<Figure size 640x480 with 1 Axes>"
      ]
     },
     "metadata": {},
     "output_type": "display_data"
    },
    {
     "data": {
      "image/png": "[encoded data removed]",
      "text/plain": [
       "<Figure size 640x480 with 1 Axes>"
      ]
     },
     "metadata": {},
     "output_type": "display_data"
    }
   ],
   "source": [
    "\n",
    "# make a numerical application a see how the proabilities evolve in time\n",
    "# the substitution is done with a dictionnary \n",
    "# that provides a numerical value for each of the variables\n",
    "subs = {kAB : 4.0, kBA : 1.0, pAi : 1.0 , pBi :0.0, tau: 0.05}\n",
    "print(f'Dictionnary of the parameter values = {subs}')\n",
    "\n",
    "\n",
    "# equilibrium distribution\n",
    "pA_eq  = expr_pA_eq.evalf(subs=subs)\n",
    "# pB_eq  = TOCOMPLETE\n",
    "pB_eq  = expr_pB_eq.evalf(subs=subs)\n",
    "\n",
    "# define the time functions using the given parameters\n",
    "pAt = pt[0].evalf(subs=subs).simplify()\n",
    "pBt = pt[1].evalf(subs=subs).simplify()\n",
    "print(f'pA(t) = {pAt}')\n",
    "print(f'pB(t) = {pBt}')\n",
    "\n",
    "# define the python functions associated to the symbolic expressions\n",
    "pAf = lambdify(t, pAt ,[\"scipy\", \"numpy\"] )\n",
    "pBf = lambdify(t, pBt ,[\"scipy\", \"numpy\"] )\n",
    "# pBf  = TOCOMPLETE\n",
    "sumf = lambdify(t, pAt+pBt ,[\"scipy\", \"numpy\"] )\n",
    "\n",
    "# define reasonable time range, avoid to divide by 0\n",
    "tmax = float((10/(kAB+kBA)).evalf(subs=subs))\n",
    "tstep = float(tau.evalf(subs=subs))\n",
    "t_list= np.arange(0.001,tmax,tstep)\n",
    "\n",
    "#calculate the probabilities and the equilibrium ones\n",
    "pA_list = [ pAf(t) for t in t_list ]\n",
    "pB_list = [ pBf(t) for t in t_list ]\n",
    "# pB_list  = TOCOMPLETE\n",
    "\n",
    "sum_list = [sumf(t) for t in t_list ]\n",
    "ratio_list = [pBf(t)/pAf(t) for t in t_list if pAf(t) > 0 ]\n",
    "\n",
    "# plot probabilities as a function of time\n",
    "fig, ax = plt.subplots()\n",
    "ax.plot(t_list, pA_list,'.-',label='pA',color='r')\n",
    "ax.axhline(y=pA_eq,label='pA(eq)',linestyle=\":\",color='r')\n",
    "ax.plot(t_list, pB_list,'.-',label='pB',color='b')\n",
    "ax.axhline(y=pB_eq,label='pB(eq)',linestyle=\":\",color='b')\n",
    "ax.plot(t_list, sum_list,'.-',label='sum')\n",
    "# ax.set_xlabel('TOCOMPLETE')\n",
    "ax.set_xlabel('time')\n",
    "ax.set_ylabel('probability')\n",
    "plt.legend()\n",
    "plt.show()\n",
    "\n",
    "# plot probabilities ratio as a function of time\n",
    "fig, ax = plt.subplots()\n",
    "ax.plot(t_list, ratio_list,'.-',label='pB/pA')\n",
    "ax.axhline(y = Keq.evalf(subs=subs),label = \"Keq\",color='k',linestyle=\":\")\n",
    "ax.set_xlabel('time')\n",
    "ax.set_ylabel('probability ratio')\n",
    "plt.legend()\n",
    "plt.show()\n"
   ]
  },
  {
   "cell_type": "markdown",
   "metadata": {},
   "source": [
    "## Numerical itterative calculation of the time evolution\n",
    "\n",
    "Now we change the point of view in order to go towards more complex systems, where `sympy` will no longer be able to calculate explicitely the time evolution.\n",
    "\n",
    "We shall calculate $p(t)$ at timesteps $\\tau$, $2\\tau$, $3\\tau$,...\n",
    "with a small timestep $\\tau$. We keep the matricial formalism and write\n",
    "the time evolution as :\n",
    "\n",
    "$\n",
    "p(t+\\tau) = \\hat{P}_\\tau ~~ p(t+\\tau)\n",
    "$\n",
    "\n",
    "where $\\hat{P}_\\tau$ is a $2\\times2$ propagator matrix that depends on the timestep $\\tau$.\n",
    "\n",
    "**QUESTIONS**\n",
    "1. If $\\tau$ is small, we can approximate  $\\hat{P}_\\tau$ with the Taylor expansion of the matrix $T$ seen previously. What is the expression for $\\hat{P}_\\tau$ up to order 1 ?\n",
    "2. In the following cells, complete the lines to make them run. \n",
    "\n",
    "Hints for `sympy`,:\n",
    "- the identity matrix in `n` dimensions can be called using `eye(n)`.\n",
    "- you can simply multiply the variables of a scalar `a` with a matrix `m` using `a * m`"
   ]
  },
  {
   "cell_type": "code",
   "execution_count": 7,
   "metadata": {},
   "outputs": [
    {
     "name": "stdout",
     "output_type": "stream",
     "text": [
      "Description of the propagator for a timestep tau\n",
      "for compound A : coef. propagator = [-k_AB*tau + 1, k_BA*tau]\n",
      "for compound B : coef. propagator = [k_AB*tau, -k_BA*tau + 1]\n"
     ]
    }
   ],
   "source": [
    "\n",
    "# same kinetics, but change for PROPAGATOR formalism\n",
    "# P is the propagator\n",
    "# It evolves the probability after a small time tau depending on the probability at time t\n",
    "P = eye(2) + tau * k \n",
    "#P = TOCOMPLETE\n",
    "P_dimension = shape(P)[0]\n",
    "\n",
    "print(f\"Description of the propagator for a timestep {tau}\")\n",
    "for row in np.arange(P_dimension) :\n",
    "    print(f'for compound {alphabet[row]} : coef. propagator = {list(P.row(row))}')\n"
   ]
  },
  {
   "cell_type": "markdown",
   "metadata": {},
   "source": [
    "**QUESTIONS**\n",
    "1. What is the eigenvalue of the propagator $\\hat{P}_\\tau$ that describes that the  probability $p_{eq}$  does not evolve in time ?\n",
    "2. In the next cell, complete the lines and verify that you get find this eigenvalue and the correct eigenvector.\n"
   ]
  },
  {
   "cell_type": "code",
   "execution_count": 8,
   "metadata": {},
   "outputs": [
    {
     "name": "stdout",
     "output_type": "stream",
     "text": [
      "\n",
      "=>Eigenvalues of the propagator\n",
      "\n",
      "eigenvalue = 1, multiplicity = 1, vector = [Matrix([\n",
      "[k_BA/k_AB],\n",
      "[        1]])]\n",
      "\n",
      "eigenvalue = -k_AB*tau - k_BA*tau + 1, multiplicity = 1, vector = [Matrix([\n",
      "[-1],\n",
      "[ 1]])]\n",
      "Find the eigenvalue 1...\n",
      "Eigenvalues = 1  ! \n",
      "\n",
      "eigenvector = Matrix([[k_BA/k_AB], [1]])\n",
      "equilibrium distribution :\n",
      "pA = k_BA/(k_AB + k_BA)\n",
      "pB = k_AB/(k_AB + k_BA)\n"
     ]
    }
   ],
   "source": [
    "\n",
    "# investigate the eigenvalues of the propagator\n",
    "print(f\"\\n=>Eigenvalues of the propagator\")\n",
    "eigen = P.eigenvects()\n",
    "for e in eigen :\n",
    "    eigenvalue, multiplicity, vector = e\n",
    "    print(f'\\neigenvalue = {eigenvalue}, multiplicity = {multiplicity}, vector = {vector}')\n",
    "\n",
    "print(f\"Find the eigenvalue 1...\")\n",
    "for e in eigen :\n",
    "    eigenvalue, multiplicity, vector = e   \n",
    "    if eigenvalue == 1.0 :\n",
    "#    if eigenvalue == TOCOMPLETE :\n",
    "\n",
    "        print(f\"Eigenvalues = 1  ! \\n\")\n",
    "        vector0 = vector[0]\n",
    "        print(f'eigenvector = {vector0}')\n",
    "\n",
    "        sum = 0.0\n",
    "        for value in vector0:\n",
    "            sum=sum+value\n",
    "        vector_normalized = vector0/sum\n",
    "        exprA = vector_normalized[0].simplify()\n",
    "        exprB = vector_normalized[1].simplify()\n",
    "\n",
    "        print(f\"equilibrium distribution :\")\n",
    "        print(f'pA = {exprA}')\n",
    "        print(f'pB = {exprB}')"
   ]
  },
  {
   "cell_type": "markdown",
   "metadata": {},
   "source": [
    "### Calculate numerically the time evolution\n",
    "\n",
    "The next cells do the following steps :\n",
    "1. using the same numerical values as previously, calculate the numerical values for the propagator.\n",
    "2. Using this propagator, create a list containing the probability vectors $p(0),p(\\tau), p(2\\tau),...$   \n",
    "3. Plot the probabilities as a function of time and compare to the previous analytical solutions."
   ]
  },
  {
   "cell_type": "code",
   "execution_count": 9,
   "metadata": {},
   "outputs": [
    {
     "name": "stdout",
     "output_type": "stream",
     "text": [
      "Numerical value of the propagator P for a timestep 0.020\n",
      "for compound A : P_0 = [0.92000, 0.020000]\n",
      "for compound B : P_1 = [0.080000, 0.98000]\n"
     ]
    }
   ],
   "source": [
    "# Calculate again the time evolution using the propagator P\n",
    "# using the numerical P_num\n",
    "P_num = P.evalf(5,subs=subs)\n",
    "\n",
    "print(f'Numerical value of the propagator P for a timestep {tau.evalf(2,subs=subs)}')\n",
    "for row in np.arange(P_dimension) :\n",
    "    print(f'for compound {alphabet[row]} : P_{row} = {list(P_num.row(row))}')"
   ]
  },
  {
   "cell_type": "markdown",
   "metadata": {},
   "source": [
    "**QUESTIONS**\n",
    "1. In the next cell, complete the lines with *TOCOMPLETE* to calculate `p_new`  using the numerical propagator `P_num` and the previous probability vector `p_old`.\n"
   ]
  },
  {
   "cell_type": "code",
   "execution_count": 10,
   "metadata": {},
   "outputs": [],
   "source": [
    "# calculate the time evolution of the concentration\n",
    "# p(t+tau) = P(tau) * p(t)\n",
    "\n",
    "# initialize the vector p(t) at time 0 and put in a list that will evolve in time\n",
    "# the first index of the matrix is the number of rows\n",
    "# the second index is the number of column\n",
    "pi_num = Matrix([pAi,pBi]).evalf(2,subs=subs)\n",
    "pt_tau_list = [ pi_num ]\n",
    "\n",
    "# create an array to store the values in a convenient way for plotting\n",
    "# initialize it at zero values from pt_tau_list\n",
    "shape = (P_dimension,len(t_list))\n",
    "pt_array = np.zeros(shape=shape, dtype=float)\n",
    "for row in np.arange(P_dimension):\n",
    "    pt_array[row,0] = pt_tau_list[0][row]\n",
    "\n",
    "# calculate step by step \n",
    "for i,t in enumerate(t_list[1:]) :\n",
    "    t_old = t_list[i]\n",
    "    p_old = pt_tau_list[i]\n",
    "    \n",
    "    if abs ( (t-t_old) - tau.evalf(2,subs=subs)) < 0.01 :\n",
    "        p_new = P_num*p_old\n",
    "        #newp = TOCOMPLETE\n",
    "        pt_tau_list.append(p_new)\n",
    "        for row in np.arange(P_dimension):\n",
    "            pt_array[row,i+1] = p_new[row]\n",
    "       \n",
    "    else :\n",
    "        print(f'the time list does not contain time step of tau')\n",
    "        print(f' i = {i}, t_old ={t_old} , t = {t}')\n",
    "\n",
    "#print(pt_tau_list)\n"
   ]
  },
  {
   "cell_type": "code",
   "execution_count": 11,
   "metadata": {},
   "outputs": [
    {
     "data": {
      "image/png": "[encoded data removed]",
      "text/plain": [
       "<Figure size 640x480 with 1 Axes>"
      ]
     },
     "metadata": {},
     "output_type": "display_data"
    }
   ],
   "source": [
    "# plot probabilities as a function of time\n",
    "\n",
    "# define as much colors as dimensions \n",
    "cm_subsection = np.linspace(0, 1, P_dimension) \n",
    "colors = [ cm.jet(x) for x in cm_subsection ]\n",
    "\n",
    "fig, ax = plt.subplots()\n",
    "for row in np.arange(P_dimension):\n",
    "        ax.plot(t_list, pt_array[row,:],'o',color=colors[row],alpha=0.5,markersize=2, label = f'p{alphabet[row]} itterative')\n",
    "\n",
    "#        if thist == t_list[0]:\n",
    "#            plt.scatter(x=thist,y=thisp[row],marker='.',color=colors[row],label = f'p{alphabet[row]} itterative')\n",
    "#        else :\n",
    "#            plt.scatter(x=thist,y=thisp[row],marker='.',color=colors[row])\n",
    "\n",
    "ax.plot(t_list, pA_list,'-',label='pA integrated',alpha=0.5,color=colors[0])\n",
    "ax.axhline(y=pA_eq,label='pA(eq)',linestyle=\":\",alpha=0.5,color=colors[0])\n",
    "ax.plot(t_list, pB_list,'-',label='pB integrated',alpha=0.5,color=colors[1])\n",
    "ax.axhline(y=pB_eq,label='pB(eq)',linestyle=\":\",alpha=0.5,color=colors[1])\n",
    "\n",
    "ax.set_xlabel('time')\n",
    "ax.set_ylabel('probability')\n",
    "plt.legend()\n",
    "plt.show()\n"
   ]
  },
  {
   "cell_type": "markdown",
   "metadata": {},
   "source": [
    "## What have learnt from the practical ?"
   ]
  },
  {
   "cell_type": "code",
   "execution_count": 12,
   "metadata": {},
   "outputs": [],
   "source": [
    "# redo with a larger number of conformations  using kinetics_linear_CBA !"
   ]
  }
 ],
 "metadata": {
  "kernelspec": {
   "display_name": "sympy",
   "language": "python",
   "name": "python3"
  },
  "language_info": {
   "codemirror_mode": {
    "name": "ipython",
    "version": 3
   },
   "file_extension": ".py",
   "mimetype": "text/x-python",
   "name": "python",
   "nbconvert_exporter": "python",
   "pygments_lexer": "ipython3",
   "version": "3.11.6"
  }
 },
 "nbformat": 4,
 "nbformat_minor": 2
}
